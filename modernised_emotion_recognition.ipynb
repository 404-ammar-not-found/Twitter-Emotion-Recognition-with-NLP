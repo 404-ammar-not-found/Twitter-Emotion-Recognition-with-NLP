{
 "cells": [
  {
   "cell_type": "code",
   "execution_count": null,
   "id": "f4ede131",
   "metadata": {},
   "outputs": [],
   "source": [
    "#Imports \n",
    "import torch\n",
    "import torch.nn as nn\n",
    "import torch.optim as optim\n",
    "from torch.utils.data import TensorDataset, DataLoader\n",
    "import matplotlib.pyplot as plt\n",
    "import numpy as np\n",
    "from datasets import load_dataset\n",
    "from transformers import AutoTokenizer\n",
    "import random"
   ]
  },
  {
   "cell_type": "code",
   "execution_count": null,
   "id": "34ae6943",
   "metadata": {},
   "outputs": [],
   "source": [
    "#Helper function to generate confusion matrix\n",
    "def show_confusion_matrix(y_true, y_pred, classes):\n",
    "    from sklearn.metrics import confusion_matrix\n",
    "    \n",
    "    cm = confusion_matrix(y_true, y_pred, normalize='true')\n",
    "\n",
    "    plt.figure(figsize=(8, 8))\n",
    "    sp = plt.subplot(1, 1, 1)\n",
    "    ctx = sp.matshow(cm)\n",
    "    plt.xticks(list(range(0, 6)), labels=classes)\n",
    "    plt.yticks(list(range(0, 6)), labels=classes)\n",
    "    plt.colorbar(ctx)\n",
    "    plt.savefig(\"confusion_matrix.png\")"
   ]
  },
  {
   "cell_type": "code",
   "execution_count": null,
   "id": "32981adf",
   "metadata": {},
   "outputs": [],
   "source": [
    "dataset = load_dataset(\"emotion\")\n",
    "\n",
    "#Separate the data into train,test and validation sets\n",
    "train_data = dataset[\"train\"]\n",
    "test_data = dataset[\"test\"]\n",
    "validation_data = dataset[\"validation\"]"
   ]
  },
  {
   "cell_type": "code",
   "execution_count": null,
   "id": "c66f889a",
   "metadata": {},
   "outputs": [
    {
     "data": {
      "text/plain": [
       "['sadness', 'joy', 'love', 'anger', 'fear', 'surprise']"
      ]
     },
     "execution_count": 26,
     "metadata": {},
     "output_type": "execute_result"
    }
   ],
   "source": [
    "#Generate class names\n",
    "classes = train_data.features[\"label\"].names\n",
    "classes"
   ]
  },
  {
   "cell_type": "code",
   "execution_count": null,
   "id": "33c3be78",
   "metadata": {},
   "outputs": [],
   "source": [
    "def get_tweets(data):\n",
    "    \"\"\"\n",
    "    Separates the data into tweets and their labels of emotion\n",
    "\n",
    "    Input:\n",
    "    data : datasets.arrow_dataset.Dataset\n",
    "\n",
    "    Output:\n",
    "    tweets : list\n",
    "    labels : list\n",
    "    \"\"\"\n",
    "    tweets = [x[\"text\"] for x in data]\n",
    "    label = [x[\"label\"] for x in data]\n",
    "    return tweets,label"
   ]
  },
  {
   "cell_type": "code",
   "execution_count": null,
   "id": "3a7f2b9d",
   "metadata": {},
   "outputs": [
    {
     "data": {
      "text/plain": [
       "('i didnt feel humiliated', 'sadness')"
      ]
     },
     "execution_count": 28,
     "metadata": {},
     "output_type": "execute_result"
    }
   ],
   "source": [
    "#Extracting training tweets and labels\n",
    "train_tweets , train_labels = get_tweets(train_data)\n",
    "train_tweets[0],classes[train_labels[0]]"
   ]
  },
  {
   "cell_type": "code",
   "execution_count": null,
   "id": "bcdab6af",
   "metadata": {},
   "outputs": [
    {
     "name": "stderr",
     "output_type": "stream",
     "text": [
      "/Users/ammarnagri/miniconda3/envs/emotion_detection/lib/python3.10/site-packages/transformers/tokenization_utils_base.py:1601: FutureWarning: `clean_up_tokenization_spaces` was not set. It will be set to `True` by default. This behavior will be depracted in transformers v4.45, and will be then set to `False` by default. For more details check this issue: https://github.com/huggingface/transformers/issues/31884\n",
      "  warnings.warn(\n"
     ]
    },
    {
     "name": "stdout",
     "output_type": "stream",
     "text": [
      "[101, 1045, 2134, 2102, 2514, 26608, 102, 0, 0, 0, 0, 0, 0, 0, 0, 0, 0, 0, 0, 0, 0, 0, 0, 0, 0, 0, 0, 0, 0, 0, 0, 0, 0, 0, 0, 0, 0, 0, 0, 0, 0, 0, 0, 0, 0, 0, 0, 0, 0, 0, 0, 0, 0, 0, 0, 0, 0, 0, 0, 0, 0, 0, 0, 0, 0, 0, 0, 0, 0, 0, 0, 0, 0, 0, 0, 0, 0, 0, 0, 0, 0, 0, 0, 0, 0, 0, 0, 0, 0, 0, 0, 0, 0, 0, 0, 0, 0, 0, 0, 0]\n"
     ]
    }
   ],
   "source": [
    "#Encode the tweets to tensors for the model\n",
    "maxlen = 100\n",
    "tokeniser = AutoTokenizer.from_pretrained(\"bert-base-uncased\")\n",
    "training_encodings = tokeniser(\n",
    "    train_tweets,\n",
    "    truncation=True,\n",
    "    padding=\"max_length\",\n",
    "    max_length=maxlen,\n",
    "    return_tensors=\"pt\"\n",
    ")\n",
    "\n",
    "# Convert tensor to list for easier viewing\n",
    "print(training_encodings['input_ids'][0].tolist())  # first tweet tokens as integers\n"
   ]
  },
  {
   "cell_type": "code",
   "execution_count": null,
   "id": "2bfac75d",
   "metadata": {},
   "outputs": [
    {
     "data": {
      "text/plain": [
       "Text(0.5, 1.0, 'Frequency of number of words in sentences')"
      ]
     },
     "execution_count": 239,
     "metadata": {},
     "output_type": "execute_result"
    },
    {
     "data": {
      "image/png": "[encoded data removed]",
      "text/plain": [
       "<Figure size 640x480 with 1 Axes>"
      ]
     },
     "metadata": {},
     "output_type": "display_data"
    }
   ],
   "source": [
    "#Histogram of the frequency of words\n",
    "lengths = [len(l.split(\" \")) for l in train_tweets]\n",
    "\n",
    "plt.hist(lengths, bins=len(set(lengths)))\n",
    "plt.ylabel(\"Frequency\")\n",
    "plt.xlabel(\"Number of words in sentences\")\n",
    "plt.title(\"Frequency of number of words in sentences\")"
   ]
  },
  {
   "cell_type": "code",
   "execution_count": null,
   "id": "1410eadd",
   "metadata": {},
   "outputs": [],
   "source": [
    "#Helper functions to convert classes to index and vice versa\n",
    "index_set = set(train_labels)\n",
    "index_set,classes\n",
    "\n",
    "class_to_index = dict((c,i) for i,c in enumerate(classes))\n",
    "index_to_class = dict((v, k) for k, v in class_to_index.items())\n",
    "\n",
    "class_to_id = lambda labels : np.array([class_to_index.get(x) for x in labels])"
   ]
  },
  {
   "cell_type": "code",
   "execution_count": null,
   "id": "d8f88006",
   "metadata": {},
   "outputs": [
    {
     "name": "stdout",
     "output_type": "stream",
     "text": [
      "BiLSTMClassifier(\n",
      "  (embedding): Embedding(30522, 16, padding_idx=0)\n",
      "  (lstm1): LSTM(16, 20, batch_first=True, bidirectional=True)\n",
      "  (lstm2): LSTM(40, 20, batch_first=True, bidirectional=True)\n",
      "  (fc): Linear(in_features=40, out_features=6, bias=True)\n",
      ")\n"
     ]
    }
   ],
   "source": [
    "class BiLSTMClassifier(nn.Module):\n",
    "    def __init__(self, vocab_size= tokeniser.vocab_size, embed_dim=16, hidden_dim=20, num_classes=6):\n",
    "        \"\"\"\n",
    "        Bidirectional LSTM classifier for text classification.\n",
    "\n",
    "        Args:\n",
    "            vocab_size (int): Size of the vocabulary.\n",
    "            embed_dim (int): Dimension of the embedding vectors.\n",
    "            hidden_dim (int): Number of hidden units in each LSTM direction.\n",
    "            num_classes (int): Number of output classes.\n",
    "        \"\"\"\n",
    "        super(BiLSTMClassifier, self).__init__()\n",
    "        \n",
    "        # Embedding layer with padding index set to 0\n",
    "        self.embedding = nn.Embedding(vocab_size, embed_dim, padding_idx=0)\n",
    "        \n",
    "        # First BiLSTM layer (outputs full sequence)\n",
    "        self.lstm1 = nn.LSTM(embed_dim, hidden_dim, batch_first=True, bidirectional=True)\n",
    "        \n",
    "        # Second BiLSTM layer (produces hidden states for classification)\n",
    "        self.lstm2 = nn.LSTM(hidden_dim * 2, hidden_dim, batch_first=True, bidirectional=True)\n",
    "        \n",
    "        # Fully connected classification head\n",
    "        self.fc = nn.Linear(hidden_dim * 2, num_classes)\n",
    "        \n",
    "    def forward(self, x):\n",
    "        \"\"\"\n",
    "        Forward pass through the model.\n",
    "\n",
    "        Args:\n",
    "            x (Tensor): Input tensor of shape [batch_size, seq_len].\n",
    "\n",
    "        Returns:\n",
    "            Tensor: Logits of shape [batch_size, num_classes].\n",
    "        \"\"\"\n",
    "        # Embed input token indices\n",
    "        x = self.embedding(x)   # [batch_size, seq_len, embed_dim]\n",
    "        \n",
    "        # Pass through first BiLSTM\n",
    "        x, _ = self.lstm1(x)    # [batch_size, seq_len, hidden_dim*2]\n",
    "        \n",
    "        # Pass through second BiLSTM\n",
    "        x, (h, _) = self.lstm2(x)\n",
    "        \n",
    "        # Concatenate last forward and backward hidden states\n",
    "        h_final = torch.cat((h[-2], h[-1]), dim=1)  # [batch_size, hidden_dim*2]\n",
    "        \n",
    "        # Classification output\n",
    "        out = self.fc(h_final)  # [batch_size, num_classes]\n",
    "        return out\n",
    "\n",
    "\n",
    "model = BiLSTMClassifier()\n",
    "print(model)"
   ]
  },
  {
   "cell_type": "code",
   "execution_count": null,
   "id": "5ab3d878",
   "metadata": {},
   "outputs": [
    {
     "name": "stderr",
     "output_type": "stream",
     "text": [
      "/Users/ammarnagri/miniconda3/envs/emotion_detection/lib/python3.10/site-packages/transformers/tokenization_utils_base.py:1601: FutureWarning: `clean_up_tokenization_spaces` was not set. It will be set to `True` by default. This behavior will be depracted in transformers v4.45, and will be then set to `False` by default. For more details check this issue: https://github.com/huggingface/transformers/issues/31884\n",
      "  warnings.warn(\n"
     ]
    },
    {
     "data": {
      "text/plain": [
       "('im feeling quite sad and sorry for myself but ill snap out of it soon',\n",
       " 0,\n",
       " 'sadness')"
      ]
     },
     "execution_count": 248,
     "metadata": {},
     "output_type": "execute_result"
    }
   ],
   "source": [
    "#Extracting training tweets and labels\n",
    "validation_tweets , validation_labels = get_tweets(validation_data)\n",
    "#Encode the tweets to tensors for the model\n",
    "tokeniser = AutoTokenizer.from_pretrained(\"bert-base-uncased\")\n",
    "validation_encodings = tokeniser(\n",
    "    validation_tweets,\n",
    "    truncation=True,\n",
    "    padding=\"max_length\",\n",
    "    max_length=maxlen,\n",
    "    return_tensors=\"pt\"\n",
    ")\n",
    "\n",
    "validation_tweets[0] , validation_labels[0] , index_to_class.get(validation_labels[0])"
   ]
  },
  {
   "cell_type": "code",
   "execution_count": null,
   "id": "d3d95e1b",
   "metadata": {},
   "outputs": [
    {
     "name": "stderr",
     "output_type": "stream",
     "text": [
      "/var/folders/f4/6nksv7x524b83jql0f8wvtkh0000gn/T/ipykernel_8737/1568152633.py:3: UserWarning: To copy construct from a tensor, it is recommended to use sourceTensor.clone().detach() or sourceTensor.clone().detach().requires_grad_(True), rather than torch.tensor(sourceTensor).\n",
      "  torch.tensor(training_encodings[\"input_ids\"], dtype=torch.long),\n",
      "/var/folders/f4/6nksv7x524b83jql0f8wvtkh0000gn/T/ipykernel_8737/1568152633.py:7: UserWarning: To copy construct from a tensor, it is recommended to use sourceTensor.clone().detach() or sourceTensor.clone().detach().requires_grad_(True), rather than torch.tensor(sourceTensor).\n",
      "  torch.tensor(validation_encodings[\"input_ids\"], dtype=torch.long),\n"
     ]
    }
   ],
   "source": [
    "#Transform the data and create a dataloader\n",
    "train_data = TensorDataset(\n",
    "    torch.tensor(training_encodings[\"input_ids\"], dtype=torch.long),\n",
    "    torch.tensor(train_labels, dtype=torch.long)\n",
    ")\n",
    "val_data = TensorDataset(\n",
    "    torch.tensor(validation_encodings[\"input_ids\"], dtype=torch.long),\n",
    "    torch.tensor(validation_labels, dtype=torch.long)\n",
    ")\n",
    "\n",
    "# DataLoaders\n",
    "train_loader = DataLoader(train_data, batch_size=32, shuffle=True)\n",
    "val_loader = DataLoader(val_data, batch_size=32)\n"
   ]
  },
  {
   "cell_type": "code",
   "execution_count": null,
   "id": "bcb8d41a",
   "metadata": {},
   "outputs": [],
   "source": [
    "#Set device\n",
    "if torch.backends.mps.is_available():\n",
    "    device = torch.device(\"mps\")    # Apple Silicon GPU\n",
    "else:\n",
    "    device = torch.device(\"cpu\")    # Fallback\n",
    "\n",
    "model = BiLSTMClassifier().to(device)\n",
    "\n",
    "#Set loss and optimiser\n",
    "criterion = nn.CrossEntropyLoss()\n",
    "optimiser = optim.Adam(model.parameters(), lr=0.001)\n"
   ]
  },
  {
   "cell_type": "code",
   "execution_count": null,
   "id": "a6054b32",
   "metadata": {},
   "outputs": [
    {
     "name": "stdout",
     "output_type": "stream",
     "text": [
      "Epoch 1/20, Loss: 793.537, Train Acc: 0.328, Val Acc: 0.367\n",
      "Epoch 2/20, Loss: 744.512, Train Acc: 0.408, Val Acc: 0.450\n",
      "Epoch 3/20, Loss: 611.440, Train Acc: 0.543, Val Acc: 0.573\n",
      "Epoch 4/20, Loss: 479.846, Train Acc: 0.639, Val Acc: 0.636\n",
      "Epoch 5/20, Loss: 394.651, Train Acc: 0.690, Val Acc: 0.663\n",
      "Epoch 6/20, Loss: 339.504, Train Acc: 0.729, Val Acc: 0.684\n",
      "Epoch 7/20, Loss: 297.623, Train Acc: 0.763, Val Acc: 0.728\n",
      "Epoch 8/20, Loss: 258.515, Train Acc: 0.802, Val Acc: 0.751\n",
      "Epoch 9/20, Loss: 223.752, Train Acc: 0.836, Val Acc: 0.773\n",
      "Epoch 10/20, Loss: 183.688, Train Acc: 0.877, Val Acc: 0.806\n",
      "Epoch 11/20, Loss: 151.785, Train Acc: 0.901, Val Acc: 0.826\n",
      "Epoch 12/20, Loss: 124.740, Train Acc: 0.918, Val Acc: 0.835\n",
      "Epoch 13/20, Loss: 107.627, Train Acc: 0.931, Val Acc: 0.833\n",
      "Epoch 14/20, Loss: 97.166, Train Acc: 0.937, Val Acc: 0.839\n",
      "Epoch 15/20, Loss: 85.533, Train Acc: 0.944, Val Acc: 0.846\n",
      "Epoch 16/20, Loss: 77.328, Train Acc: 0.949, Val Acc: 0.853\n",
      "Epoch 17/20, Loss: 67.216, Train Acc: 0.955, Val Acc: 0.855\n",
      "Epoch 18/20, Loss: 61.280, Train Acc: 0.959, Val Acc: 0.858\n",
      "Epoch 19/20, Loss: 52.711, Train Acc: 0.965, Val Acc: 0.857\n",
      "Epoch 20/20, Loss: 49.832, Train Acc: 0.968, Val Acc: 0.852\n"
     ]
    }
   ],
   "source": [
    "epochs = 20\n",
    "patience = 3   # stop training if validation accuracy does not improve for 'patience' epochs\n",
    "best_val_acc = 0.0\n",
    "counter = 0\n",
    "\n",
    "train_history, val_history = [], []\n",
    "\n",
    "for epoch in range(epochs):\n",
    "    # Training phase\n",
    "    model.train()\n",
    "    running_loss, correct, total = 0.0, 0, 0\n",
    "    \n",
    "    for X, y in train_loader:\n",
    "        X, y = X.to(device), y.to(device)\n",
    "\n",
    "        optimiser.zero_grad()\n",
    "        outputs = model(X)\n",
    "        loss = criterion(outputs, y)\n",
    "        loss.backward()\n",
    "        optimiser.step()\n",
    "\n",
    "        # Track loss and accuracy\n",
    "        running_loss += loss.item()\n",
    "        _, preds = torch.max(outputs, dim=1)\n",
    "        correct += (preds == y).sum().item()\n",
    "        total += y.size(0)\n",
    "\n",
    "    train_acc = correct / total\n",
    "    train_history.append(train_acc)\n",
    "\n",
    "    # Validation phase\n",
    "    model.eval()\n",
    "    val_correct, val_total = 0, 0\n",
    "    \n",
    "    with torch.no_grad():\n",
    "        for X, y in val_loader:\n",
    "            X, y = X.to(device), y.to(device)\n",
    "            outputs = model(X)\n",
    "            _, preds = torch.max(outputs, dim=1)\n",
    "            val_correct += (preds == y).sum().item()\n",
    "            val_total += y.size(0)\n",
    "\n",
    "    val_acc = val_correct / val_total\n",
    "    val_history.append(val_acc)\n",
    "\n",
    "    print(\n",
    "        f\"Epoch {epoch+1}/{epochs}, \"\n",
    "        f\"Loss: {running_loss:.3f}, \"\n",
    "        f\"Train Acc: {train_acc:.3f}, \"\n",
    "        f\"Val Acc: {val_acc:.3f}\"\n",
    "    )\n",
    "\n",
    "\n",
    "    # Early stopping\n",
    "    if val_acc > best_val_acc:\n",
    "        best_val_acc = val_acc\n",
    "        counter = 0\n",
    "    else:\n",
    "        counter += 1\n",
    "        if counter >= patience:\n",
    "            print(\"Early stopping triggered.\")\n",
    "            break\n"
   ]
  },
  {
   "cell_type": "code",
   "execution_count": null,
   "id": "71ee2d8f",
   "metadata": {},
   "outputs": [
    {
     "data": {
      "image/png": "[encoded data removed]",
      "text/plain": [
       "<Figure size 1600x600 with 1 Axes>"
      ]
     },
     "metadata": {},
     "output_type": "display_data"
    }
   ],
   "source": [
    "#Visualise the training and val loss\n",
    "plt.figure(figsize=(16, 6))\n",
    "\n",
    "plt.plot(range(0, epochs), train_history, label='Training')\n",
    "plt.plot(range(0, epochs), val_history, label='Validation')\n",
    "plt.xlabel('Epochs')\n",
    "plt.ylabel('Loss')\n",
    "plt.legend()\n",
    "plt.show()"
   ]
  },
  {
   "cell_type": "code",
   "execution_count": null,
   "id": "0ecb04a3",
   "metadata": {},
   "outputs": [
    {
     "data": {
      "text/plain": [
       "2000"
      ]
     },
     "execution_count": 119,
     "metadata": {},
     "output_type": "execute_result"
    }
   ],
   "source": [
    "#Extracting training tweets and labels\n",
    "test_tweets , test_labels = get_tweets(test_data)\n",
    "#Encode the tweets to tensors for the model\n",
    "len(test_tweets)\n",
    "testing_encodings = tokeniser(\n",
    "    test_tweets,\n",
    "    truncation=True,\n",
    "    padding=\"max_length\",\n",
    "    max_length=maxlen,\n",
    "    return_tensors=\"pt\"\n",
    ")"
   ]
  },
  {
   "cell_type": "code",
   "execution_count": null,
   "id": "1cf5152e",
   "metadata": {},
   "outputs": [
    {
     "name": "stderr",
     "output_type": "stream",
     "text": [
      "/var/folders/f4/6nksv7x524b83jql0f8wvtkh0000gn/T/ipykernel_8737/107017136.py:2: UserWarning: To copy construct from a tensor, it is recommended to use sourceTensor.clone().detach() or sourceTensor.clone().detach().requires_grad_(True), rather than torch.tensor(sourceTensor).\n",
      "  torch.tensor(testing_encodings[\"input_ids\"], dtype=torch.long),\n"
     ]
    }
   ],
   "source": [
    "#Transform the testing data and create a dataloader\n",
    "test_data = TensorDataset(\n",
    "    torch.tensor(testing_encodings[\"input_ids\"], dtype=torch.long),\n",
    "    torch.tensor(test_labels, dtype=torch.long)\n",
    ")\n",
    "\n",
    "test_loader = DataLoader(test_data, batch_size=32, shuffle=True)"
   ]
  },
  {
   "cell_type": "code",
   "execution_count": null,
   "id": "ee9352d4",
   "metadata": {},
   "outputs": [
    {
     "name": "stdout",
     "output_type": "stream",
     "text": [
      "Test Loss: 0.601, Test Acc: 0.845\n"
     ]
    }
   ],
   "source": [
    "def evaluate(model, test_loader, criterion, device: str = \"cpu\"):\n",
    "    \"\"\"\n",
    "    Evaluate a trained model on a test dataset.\n",
    "\n",
    "    Args:\n",
    "        model (nn.Module): Trained PyTorch model to be evaluated.\n",
    "        test_loader (DataLoader): DataLoader for the test dataset.\n",
    "        criterion (nn.Module): Loss function.\n",
    "        device (str): Device to run evaluation on (\"cpu\" or \"cuda\").\n",
    "\n",
    "    Returns:\n",
    "        tuple[float, float]: Average loss and accuracy on the test set.\n",
    "    \"\"\"\n",
    "    model.eval()\n",
    "    total_loss, correct, total = 0.0, 0, 0\n",
    "\n",
    "    with torch.no_grad():  # disable gradient tracking for efficiency\n",
    "        for inputs, labels in test_loader:\n",
    "            inputs, labels = inputs.to(device), labels.to(device)\n",
    "\n",
    "            outputs = model(inputs)\n",
    "            loss = criterion(outputs, labels)\n",
    "\n",
    "            # Accumulate weighted loss\n",
    "            total_loss += loss.item() * labels.size(0)\n",
    "\n",
    "            # Compute predictions\n",
    "            _, predicted = torch.max(outputs, dim=1)\n",
    "            correct += (predicted == labels).sum().item()\n",
    "            total += labels.size(0)\n",
    "\n",
    "    avg_loss = total_loss / total\n",
    "    accuracy = correct / total\n",
    "    return avg_loss, accuracy\n",
    "\n",
    "\n",
    "# Example usage\n",
    "test_loss, test_acc = evaluate(model, test_loader, criterion, device)\n",
    "print(f\"Test Loss: {test_loss:.3f}, Test Acc: {test_acc:.3f}\")\n"
   ]
  },
  {
   "cell_type": "code",
   "execution_count": null,
   "id": "6cd24223",
   "metadata": {},
   "outputs": [
    {
     "name": "stdout",
     "output_type": "stream",
     "text": [
      "Sentence: i feel at leaving work is hot and complicated and tempered with the disquiet of a future that feels out of my hands\n",
      "True label: love\n",
      "Predicted emotion: surprise\n"
     ]
    },
    {
     "name": "stderr",
     "output_type": "stream",
     "text": [
      "/var/folders/f4/6nksv7x524b83jql0f8wvtkh0000gn/T/ipykernel_8737/1829601219.py:3: UserWarning: To copy construct from a tensor, it is recommended to use sourceTensor.clone().detach() or sourceTensor.clone().detach().requires_grad_(True), rather than torch.tensor(sourceTensor).\n",
      "  input_tensor = torch.tensor(testing_encodings[\"input_ids\"][index], dtype=torch.long).unsqueeze(0).to(device)\n"
     ]
    }
   ],
   "source": [
    "#Visualisation of the models ability to predict the emotion\n",
    "index = random.randint(0, len(testing_encodings[\"input_ids\"]) - 1)\n",
    "\n",
    "input_tensor = torch.tensor(testing_encodings[\"input_ids\"][index], dtype=torch.long).unsqueeze(0).to(device)  \n",
    "\n",
    "model.eval()\n",
    "with torch.no_grad():\n",
    "    output = model(input_tensor)\n",
    "    predicted_class = torch.argmax(output, dim=1).item()\n",
    "\n",
    "# show results\n",
    "print(f\"Sentence: {test_tweets[index]}\")\n",
    "print(f\"True label: {index_to_class.get(test_labels[index])}\")\n",
    "print(f\"Predicted emotion: {index_to_class.get(predicted_class)}\")\n"
   ]
  },
  {
   "cell_type": "code",
   "execution_count": null,
   "id": "11b3ee6f",
   "metadata": {},
   "outputs": [],
   "source": [
    "#Produce the predictions for the entire testing dataset\n",
    "model.eval()\n",
    "all_preds = []\n",
    "\n",
    "with torch.no_grad():  \n",
    "        outputs = model(testing_encodings[\"input_ids\"].to(device))\n",
    "        probs = torch.softmax(outputs, dim=1)  \n",
    "        preds = torch.argmax(probs, dim=1)     \n",
    "\n",
    "        all_preds.extend(preds.cpu().numpy())\n",
    "y_pred = np.array(all_preds)"
   ]
  },
  {
   "cell_type": "code",
   "execution_count": null,
   "id": "3e693366",
   "metadata": {},
   "outputs": [
    {
     "ename": "NameError",
     "evalue": "name 'classes' is not defined",
     "output_type": "error",
     "traceback": [
      "\u001b[0;31m---------------------------------------------------------------------------\u001b[0m",
      "\u001b[0;31mNameError\u001b[0m                                 Traceback (most recent call last)",
      "Cell \u001b[0;32mIn[2], line 2\u001b[0m\n\u001b[1;32m      1\u001b[0m \u001b[38;5;66;03m#Generate confusion matrix\u001b[39;00m\n\u001b[0;32m----> 2\u001b[0m show_confusion_matrix(classes\u001b[38;5;241m=\u001b[39m (\u001b[43mclasses\u001b[49m),y_true\u001b[38;5;241m=\u001b[39mtest_labels,y_pred\u001b[38;5;241m=\u001b[39my_pred\u001b[38;5;241m.\u001b[39mtolist())\n",
      "\u001b[0;31mNameError\u001b[0m: name 'classes' is not defined"
     ]
    }
   ],
   "source": [
    "#Generate confusion matrix\n",
    "show_confusion_matrix(classes= (classes),y_true=test_labels,y_pred=y_pred.tolist())"
   ]
  }
 ],
 "metadata": {
  "kernelspec": {
   "display_name": "emotion_detection",
   "language": "python",
   "name": "python3"
  },
  "language_info": {
   "codemirror_mode": {
    "name": "ipython",
    "version": 3
   },
   "file_extension": ".py",
   "mimetype": "text/x-python",
   "name": "python",
   "nbconvert_exporter": "python",
   "pygments_lexer": "ipython3",
   "version": "3.10.14"
  }
 },
 "nbformat": 4,
 "nbformat_minor": 5
}
